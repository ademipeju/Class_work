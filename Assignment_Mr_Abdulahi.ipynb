{
 "cells": [
  {
   "cell_type": "code",
   "execution_count": 1,
   "metadata": {},
   "outputs": [],
   "source": [
    "West= [\"Osun\", \"ogun\", \"Oyo\", \"Ekiti\", \"Sokoto\"]\n",
    "North=[\"Kwara\", \"Niger\", \"Abuja\", \"Zamfara\"]\n",
    "East= [\"Anambra\", \"Imo\", \"Benue\", \"Abia\"]"
   ]
  },
  {
   "cell_type": "code",
   "execution_count": 2,
   "metadata": {},
   "outputs": [
    {
     "name": "stdout",
     "output_type": "stream",
     "text": [
      "['Osun', 'ogun', 'Oyo', 'Ekiti', 'Lagos']\n"
     ]
    }
   ],
   "source": [
    "West[4]= \"Lagos\"\n",
    "print(West)"
   ]
  },
  {
   "cell_type": "code",
   "execution_count": 3,
   "metadata": {},
   "outputs": [],
   "source": [
    "Nigeria= {}"
   ]
  },
  {
   "cell_type": "code",
   "execution_count": 5,
   "metadata": {},
   "outputs": [],
   "source": [
    "Nigeria[\"west\"]= West"
   ]
  },
  {
   "cell_type": "code",
   "execution_count": 6,
   "metadata": {},
   "outputs": [],
   "source": [
    "Nigeria[\"North\"]= North"
   ]
  },
  {
   "cell_type": "code",
   "execution_count": 7,
   "metadata": {},
   "outputs": [],
   "source": [
    "Nigeria[\"East\"]= East"
   ]
  },
  {
   "cell_type": "code",
   "execution_count": 8,
   "metadata": {},
   "outputs": [
    {
     "name": "stdout",
     "output_type": "stream",
     "text": [
      "{'west': ['Osun', 'ogun', 'Oyo', 'Ekiti', 'Lagos'], 'North': ['Kwara', 'Niger', 'Abuja', 'Zamfara'], 'East': ['Anambra', 'Imo', 'Benue', 'Abia']}\n"
     ]
    }
   ],
   "source": [
    "print(Nigeria)"
   ]
  }
 ],
 "metadata": {
  "kernelspec": {
   "display_name": "Python 3",
   "language": "python",
   "name": "python3"
  },
  "language_info": {
   "codemirror_mode": {
    "name": "ipython",
    "version": 3
   },
   "file_extension": ".py",
   "mimetype": "text/x-python",
   "name": "python",
   "nbconvert_exporter": "python",
   "pygments_lexer": "ipython3",
   "version": "3.12.3"
  }
 },
 "nbformat": 4,
 "nbformat_minor": 2
}
